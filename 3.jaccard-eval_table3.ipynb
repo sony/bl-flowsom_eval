{
 "cells": [
  {
   "cell_type": "code",
   "execution_count": null,
   "id": "076828e3",
   "metadata": {},
   "outputs": [],
   "source": [
    "# Copyright 2025 Sony Corporation"
   ]
  },
  {
   "cell_type": "markdown",
   "id": "01c6b784-f453-4584-883e-270e9607213b",
   "metadata": {},
   "source": [
    "# Notebook for jaccard evaluation, perform jaccard evaluation, and create Table3 data."
   ]
  },
  {
   "cell_type": "markdown",
   "id": "be3a9aff-2dad-4e5b-b8ef-1a0f2417b6d4",
   "metadata": {},
   "source": [
    "### Create data for multiple SEEDs"
   ]
  },
  {
   "cell_type": "code",
   "execution_count": null,
   "id": "6801cd94-df37-47c1-8713-d34c5c55ebe8",
   "metadata": {},
   "outputs": [],
   "source": [
    "import subprocess\n",
    "import os\n",
    "import glob\n",
    "import shutil\n",
    "import sys\n",
    "import pandas as pd"
   ]
  },
  {
   "cell_type": "code",
   "execution_count": null,
   "id": "1071cb32-97d1-458c-b660-6dfec919144e",
   "metadata": {},
   "outputs": [],
   "source": [
    "workdir = os.getcwd()"
   ]
  },
  {
   "cell_type": "code",
   "execution_count": null,
   "id": "19686909",
   "metadata": {},
   "outputs": [],
   "source": [
    "BL_iter_hang_ev = \"evaluate_BL_hang.R\"\n",
    "FSOM_no_hang_seed_ev = \"evaluate_FlowSOM_hang.R\""
   ]
  },
  {
   "cell_type": "code",
   "execution_count": null,
   "id": "f63c4f00-e1b2-4a18-9556-9a709aa528ce",
   "metadata": {},
   "outputs": [],
   "source": []
  },
  {
   "cell_type": "code",
   "execution_count": null,
   "id": "7a002d05-d3c6-4547-b139-3ccf7fc6a6ea",
   "metadata": {},
   "outputs": [],
   "source": [
    "Outdir = \"Jaccard_Eval\"\n",
    "fsom_experiment_name = \"jaccard-fsom-result\"\n",
    "os.chdir(workdir)\n",
    "seed_num=10\n",
    "max_process = 30 \n",
    "Samusik_div_num = 38\n",
    "\n",
    "meta_s = {\"FP7000_34c\":[20],\n",
    "          \"FP7000_34c-pca\":[20],\n",
    "          \"Samusik_all\":[Samusik_div_num],\n",
    "          \"Samusik_all-pca\":[Samusik_div_num],\n",
    "          }\n",
    "\n",
    "it_list = [10]\n",
    "seed_num = 10\n",
    "clust_sample_list =[\"FP7000_34c\",\"FP7000_34c-pca\",\"Samusik_all\"]"
   ]
  },
  {
   "cell_type": "markdown",
   "id": "76aab08b-dca6-4617-af7b-8d6245c01c0d",
   "metadata": {},
   "source": [
    "### set sample"
   ]
  },
  {
   "cell_type": "code",
   "execution_count": null,
   "id": "81ca2027-c1c6-428d-a054-0cb90cf9bda4",
   "metadata": {},
   "outputs": [],
   "source": [
    "Samplefcses = []\n",
    "Samplefcs = os.path.join(workdir,\"benchmark_data_sets\",\"Samusik_all\",\"data\",\"Samusik_all.fcs\")\n",
    "Samplefcses.append(Samplefcs)\n",
    "Samplefcs = os.path.join(workdir,\"benchmark_data_sets\",\"FP7000_34c\",\"data\",\"FP7000_34c.fcs\")\n",
    "Samplefcses.append(Samplefcs)"
   ]
  },
  {
   "cell_type": "markdown",
   "id": "282eef18-9f78-4dda-8414-e966b578eb56",
   "metadata": {
    "tags": []
   },
   "source": [
    "## experiment of flowsom"
   ]
  },
  {
   "cell_type": "code",
   "execution_count": null,
   "id": "b74bd158-5c08-42a0-b1f9-f04eda823b96",
   "metadata": {},
   "outputs": [],
   "source": [
    "def do_experiment_flowsom(fsom_exp_path, mode, sample_name,Samplefcs,meta_list, it_list,seed_num):\n",
    "    os.makedirs(fsom_exp_path,exist_ok=True)\n",
    "    loop = len(meta_list) * seed_num *len(it_list)\n",
    "    init_mode = mode    \n",
    "    proc_list = []\n",
    "    total_num = 0\n",
    "    for meta in meta_list:#meta\n",
    "        print(meta)\n",
    "        vseed_dir = os.path.join(fsom_exp_path, \"%d\"%meta) #exp_path/{meta}\n",
    "        os.makedirs(vseed_dir,exist_ok=True)\n",
    "        for it in it_list:#iteration\n",
    "            it_dir = os.path.join( vseed_dir, \"%d\"%it)\n",
    "            os.makedirs(it_dir,exist_ok=True)\n",
    "            for i in range(1,seed_num+1):#seed\n",
    "                cmd = \"RScript.exe cytometry-clustering-comparison/run_methods/run_FlowSOM2_variable_iter_seed_meta_sample_jaccard.R %s %s %d %d %d %s %s\"%(Samplefcs,it_dir, it, i, meta,sample_name,init_mode)\n",
    "                proc = subprocess.Popen(cmd.split())\n",
    "                proc_list.append(proc)\n",
    "                total_num = total_num +1\n",
    "                if (total_num) % max_process == 0 or (total_num == loop):\n",
    "                    #wait process\n",
    "                    for subproc in proc_list:\n",
    "                        subproc.wait()\n",
    "                    proc_list = []    "
   ]
  },
  {
   "cell_type": "code",
   "execution_count": null,
   "id": "e3bc9b33-eb1e-4356-b9c8-d2b7c2bb9b13",
   "metadata": {},
   "outputs": [],
   "source": [
    "def do_evaluate_fsom(fsom_exp_path,eval_tool_path, Samplefcs,meta_list, it_list,seed_num):\n",
    "    os.chdir(eval_tool_path)\n",
    "    loop = len(meta_list)*len(it_list)*seed_num    \n",
    "    sample_name = os.path.splitext(os.path.basename(Samplefcs))[0]\n",
    "    proc_list = []\n",
    "    total_num = 0\n",
    "    for meta in meta_list:\n",
    "        print(meta)\n",
    "        fsom_eval_dir = os.path.join(fsom_exp_path, \"%d\"%meta) #exp_path/{meta}\n",
    "        for it in it_list:\n",
    "            it_dir = os.path.join(fsom_eval_dir, \"%d\"%it)\n",
    "            for seed in range(1,seed_num + 1):\n",
    "                cmd = \"RScript.exe %s %s %s/FlowSOM_labels_seed_%d_iter_%d_meta_%d.txt %s/vseed_f1hang_%03d_iter_%d_meta_%d.resh\"%(FSOM_no_hang_seed_ev,Samplefcs,it_dir,seed,it,meta,it_dir,seed,it,meta)\n",
    "                proc = subprocess.Popen(cmd.split())\n",
    "                proc_list.append(proc)\n",
    "                total_num = total_num +1\n",
    "                if (total_num) % max_process == 0 or (total_num == loop):\n",
    "                    #wait process\n",
    "                    for subproc in proc_list:\n",
    "                        subproc.wait()\n",
    "                    proc_list = []\n",
    "    print(\"done\")"
   ]
  },
  {
   "cell_type": "code",
   "execution_count": null,
   "id": "8d7ca7fa-3e11-4ee8-a0ec-57ac440bd12e",
   "metadata": {},
   "outputs": [],
   "source": [
    "os.chdir(workdir)\n",
    "\n",
    "#do with RAND init \n",
    "for Samplefcs in Samplefcses:\n",
    "    mode = \"RAND\" #RAND/PCA\n",
    "    sample_name = os.path.splitext(os.path.basename(Samplefcs))[0]\n",
    "    print(sample_name)\n",
    "    meta_list = meta_s.get(sample_name)\n",
    "    fsom_exp_path = os.path.join(workdir,fsom_experiment_name,sample_name) \n",
    "    # do BL-flowsom experiments\n",
    "    do_experiment_flowsom(fsom_exp_path,mode, sample_name,Samplefcs,meta_list,it_list,seed_num)\n",
    "    os.chdir(workdir)\n",
    "    eval_tool_path = os.path.join(workdir,\"cytometry-clustering-comparison/evaluate_results\")\n",
    "    do_evaluate_fsom(fsom_exp_path,eval_tool_path,Samplefcs,meta_list,it_list,seed_num)\n",
    "    os.chdir(workdir)\n",
    "os.chdir(workdir)"
   ]
  },
  {
   "cell_type": "code",
   "execution_count": null,
   "id": "13c0cde3-b70f-40f1-9d9e-f83e92b5d262",
   "metadata": {},
   "outputs": [],
   "source": [
    "#do with PCA init \n",
    "for Samplefcs in Samplefcses:\n",
    "    mode = \"PCA\" #RAND/PCA\n",
    "    sample_name = os.path.splitext(os.path.basename(Samplefcs))[0]\n",
    "    sample_name = sample_name + \"-pca\"\n",
    "    meta_list = meta_s.get(sample_name)\n",
    "    fsom_exp_path = os.path.join(workdir,fsom_experiment_name,sample_name) \n",
    "    # do BL-flowsom experiments\n",
    "    do_experiment_flowsom(fsom_exp_path,mode, sample_name,Samplefcs,meta_list,it_list,seed_num)\n",
    "    os.chdir(workdir)\n",
    "    eval_tool_path = os.path.join(workdir,\"cytometry-clustering-comparison/evaluate_results\")\n",
    "    do_evaluate_fsom(fsom_exp_path,eval_tool_path,Samplefcs,meta_list,it_list,seed_num)\n",
    "    os.chdir(workdir)\n",
    "os.chdir(workdir)"
   ]
  },
  {
   "cell_type": "markdown",
   "id": "93b85ac5-75ce-49a9-909d-7c64b16aeeaf",
   "metadata": {},
   "source": [
    "### make jaccard file"
   ]
  },
  {
   "cell_type": "code",
   "execution_count": null,
   "id": "7f396d08-20bd-4945-82fe-c7afdc90a3ee",
   "metadata": {},
   "outputs": [],
   "source": [
    "def df2jacdf(indf):\n",
    "    max = indf[0].max()\n",
    "    index_list = []   \n",
    "    for i in range(1,max + 1):\n",
    "        ind = indf.loc[indf[0]==i].index \n",
    "        ind = ind+1 \n",
    "        index_list.append(ind.tolist())\n",
    "    df = pd.DataFrame(index_list)\n",
    "    df.index = df.index + 1 \n",
    "    return df"
   ]
  },
  {
   "cell_type": "code",
   "execution_count": null,
   "id": "54c5aa3a-6b83-43cb-94bf-39953da6e225",
   "metadata": {},
   "outputs": [],
   "source": [
    "# random init \n",
    "for Sample in Samplefcses:\n",
    "    sample_name = os.path.splitext(os.path.basename(Sample))[0]\n",
    "    print(sample_name)\n",
    "    meta_list = meta_s.get(sample_name)\n",
    "    meta = str(meta_list[0])\n",
    "    it = str(it_list[0])\n",
    "    \n",
    "    base_dir = os.path.join(workdir,fsom_experiment_name,sample_name,meta,it)\n",
    "    out_dir = os.path.join(workdir, Outdir,\"FSOM\",sample_name)\n",
    "    os.makedirs(out_dir,exist_ok=True)\n",
    "    \n",
    "    #clust\n",
    "    for seed in range(1,seed_num+1):\n",
    "        in_file = os.path.join(base_dir,\"FlowSOM_labels_seed_%d_iter_%s_clust.txt\"%(seed,it))\n",
    "        out_filename = \"fsom_%s_jaccard_%d_clust.csv\"%(sample_name,seed)\n",
    "        out_path = os.path.join(out_dir, out_filename)\n",
    "\n",
    "        df = pd.read_csv(in_file, header=None,skiprows=1)\n",
    "        out_df = df2jacdf(df) \n",
    "        a = out_df.T\n",
    "        a.to_csv(out_path, index=False, header=True)\n",
    "    \n",
    "    #meta\n",
    "    for seed in range(1,seed_num + 1):\n",
    "        in_file = os.path.join(base_dir,\"FlowSOM_labels_seed_%d_iter_%s_meta_%s.txt\"%(seed,it,meta))\n",
    "        out_filename = \"fsom_%s_jaccard_%d_meta.csv\"%(sample_name,seed)\n",
    "        out_path = os.path.join(out_dir, out_filename)\n",
    "\n",
    "        df = pd.read_csv(in_file, header=None,skiprows=1)\n",
    "        out_df = df2jacdf(df) \n",
    "        a = out_df.T\n",
    "        a.to_csv(out_path, index=False, header=True)\n",
    "print(\"done\")    "
   ]
  },
  {
   "cell_type": "code",
   "execution_count": null,
   "id": "d55fa059-995d-4607-a5f1-7e8481360173",
   "metadata": {},
   "outputs": [],
   "source": [
    "# PCA init \n",
    "for Sample in Samplefcses:\n",
    "    sample_name = os.path.splitext(os.path.basename(Sample))[0]\n",
    "    sample_name = sample_name + \"-pca\"\n",
    "    print(sample_name)\n",
    "    meta_list = meta_s.get(sample_name)\n",
    "    meta = str(meta_list[0])\n",
    "    it = str(it_list[0])\n",
    "    \n",
    "    base_dir = os.path.join(workdir,fsom_experiment_name,sample_name,meta,it)\n",
    "    out_dir = os.path.join(workdir, Outdir,\"FSOM\",sample_name)\n",
    "    os.makedirs(out_dir,exist_ok=True)\n",
    "    \n",
    "    #clust\n",
    "    for seed in range(1,seed_num+1):\n",
    "        in_file = os.path.join(base_dir,\"FlowSOM_labels_seed_%d_iter_%s_clust.txt\"%(seed,it))\n",
    "        out_filename = \"fsom_%s_jaccard_%d_clust.csv\"%(sample_name,seed)\n",
    "        out_path = os.path.join(out_dir, out_filename)\n",
    "        \n",
    "        df = pd.read_csv(in_file, header=None,skiprows=1)\n",
    "        out_df = df2jacdf(df) \n",
    "        a = out_df.T\n",
    "        a.to_csv(out_path, index=False, header=True)\n",
    "    \n",
    "    #meta\n",
    "    for seed in range(1,seed_num + 1):\n",
    "        in_file = os.path.join(base_dir,\"FlowSOM_labels_seed_%d_iter_%s_meta_%s.txt\"%(seed,it,meta))\n",
    "        out_filename = \"fsom_%s_jaccard_%d_meta.csv\"%(sample_name,seed)\n",
    "        out_path = os.path.join(out_dir, out_filename)\n",
    "\n",
    "        df = pd.read_csv(in_file, header=None,skiprows=1)\n",
    "        out_df = df2jacdf(df) \n",
    "        a = out_df.T\n",
    "        a.to_csv(out_path, index=False, header=True)\n",
    "print(\"done\")"
   ]
  },
  {
   "cell_type": "code",
   "execution_count": null,
   "id": "debba476-3a3e-46f2-b751-be591b12e79d",
   "metadata": {},
   "outputs": [],
   "source": []
  },
  {
   "cell_type": "code",
   "execution_count": null,
   "id": "49a79933-a107-4aeb-bf02-c529744fc882",
   "metadata": {},
   "outputs": [],
   "source": []
  },
  {
   "cell_type": "markdown",
   "id": "345858ca-eedf-418f-84ed-5a76a7ac5643",
   "metadata": {},
   "source": [
    "# calcrate jaccard index"
   ]
  },
  {
   "cell_type": "raw",
   "id": "dc30784c-2d5f-47f5-aff5-f6407b4e1c82",
   "metadata": {
    "vscode": {
     "languageId": "raw"
    }
   },
   "source": [
    "jaccard-fsom-result/FSOM/\n",
    "　→FP7000_34c\n",
    "　　→fsom_FP7000_34c_jaccard_1_meta.csv\n",
    "  　→fsom_FP7000_34c_jaccard_2_meta.csv\n",
    "   　...\n",
    "    →fsom_FP7000_34c_jaccard_10_meta.csv\n",
    "    →fsom_FP7000_34c_jaccard_1_clust.csv\n",
    "    →fsom_FP7000_34c_jaccard_2_clust.csv\n",
    "   　...\n",
    "    →fsom_FP7000_34c_jaccard_10_clust.csv\n",
    "→FP7000_34c-pca\n",
    "    ...(same content)\n",
    "→Samusik_all\n",
    "    ...(same content)\n"
   ]
  },
  {
   "cell_type": "code",
   "execution_count": null,
   "id": "9bdc90c7-b2dc-4901-94ac-dc4d7beb89a6",
   "metadata": {},
   "outputs": [],
   "source": [
    "from multiprocessing import Process"
   ]
  },
  {
   "cell_type": "code",
   "execution_count": null,
   "id": "4a84f77e-db52-4874-b21f-bbb9c1a6ab89",
   "metadata": {},
   "outputs": [],
   "source": [
    "from workers import calc_jaccard_clust,calc_jaccard_meta # import from workers for multi-process"
   ]
  },
  {
   "cell_type": "code",
   "execution_count": null,
   "id": "02f7ce27-c0ef-4cc9-a1cd-4efa6a4cf497",
   "metadata": {},
   "outputs": [],
   "source": [
    "proc_list = []\n",
    "for sample_name in clust_sample_list:\n",
    "    div_num = 100\n",
    "    fold_num = 10\n",
    "    proc = Process(target=calc_jaccard_clust,args=(Outdir,workdir,fold_num, div_num, sample_name))\n",
    "    proc.start()\n",
    "    proc_list.append(proc)\n",
    "\n",
    "for sample_name in clust_sample_list:\n",
    "    if sample_name == \"Samusik_all\":\n",
    "        div_num = Samusik_div_num\n",
    "    else:\n",
    "        div_num = 20 # for FP7000_34c\n",
    "    fold_num = 10\n",
    "    proc = Process(target=calc_jaccard_meta,args=(Outdir,workdir,fold_num, div_num, sample_name))\n",
    "    proc.start()\n",
    "    proc_list.append(proc)\n",
    "\n",
    "for p in proc_list:\n",
    "    p.join()"
   ]
  },
  {
   "cell_type": "markdown",
   "id": "25ca732f-4e2e-4e85-8f43-b8e839ad2213",
   "metadata": {},
   "source": [
    "## calc each sample's average and std of jaccard"
   ]
  },
  {
   "cell_type": "code",
   "execution_count": null,
   "id": "130973bc-386e-4992-999b-ad8eae2a2800",
   "metadata": {},
   "outputs": [],
   "source": [
    "for sample_name in clust_sample_list:\n",
    "    file = sample_name + \"_jaccard_fsom_clust.csv\"\n",
    "    dat = pd.read_csv(file)\n",
    "    print(file)\n",
    "    print(dat[\"4\"].describe()) #4 is jaccard index\n",
    "    file = sample_name + \"_jaccard_fsom_meta.csv\"\n",
    "    dat = pd.read_csv(file)\n",
    "    print(file)\n",
    "    print(dat[\"4\"].describe()) #4 is jaccard index"
   ]
  }
 ],
 "metadata": {
  "kernelspec": {
   "display_name": "Python 3 (ipykernel)",
   "language": "python",
   "name": "python3"
  },
  "language_info": {
   "codemirror_mode": {
    "name": "ipython",
    "version": 3
   },
   "file_extension": ".py",
   "mimetype": "text/x-python",
   "name": "python",
   "nbconvert_exporter": "python",
   "pygments_lexer": "ipython3",
   "version": "3.9.9"
  }
 },
 "nbformat": 4,
 "nbformat_minor": 5
}
