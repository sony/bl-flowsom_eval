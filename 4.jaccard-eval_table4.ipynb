{
 "cells": [
  {
   "cell_type": "code",
   "execution_count": null,
   "id": "bc26632b",
   "metadata": {},
   "outputs": [],
   "source": [
    "# Copyright 2025 Sony Corporation"
   ]
  },
  {
   "cell_type": "markdown",
   "id": "dbfa912c-68a0-4844-82f1-0d7a2d7cc519",
   "metadata": {},
   "source": [
    "# make table4 "
   ]
  },
  {
   "cell_type": "code",
   "execution_count": null,
   "id": "92cdbb63-840c-4ae6-8b45-fb89089ab168",
   "metadata": {},
   "outputs": [],
   "source": [
    "import subprocess\n",
    "import os\n",
    "import glob\n",
    "import shutil\n",
    "import sys\n",
    "import pandas as pd\n",
    "from multiprocessing import Process"
   ]
  },
  {
   "cell_type": "code",
   "execution_count": null,
   "id": "e213d7a4-8012-43b6-b3e5-d0eee0ab8244",
   "metadata": {},
   "outputs": [],
   "source": [
    "workdir = os.getcwd()"
   ]
  },
  {
   "cell_type": "code",
   "execution_count": null,
   "id": "6eef83e5-7c92-48e9-9041-da8b2d5de7bf",
   "metadata": {},
   "outputs": [],
   "source": [
    "#fixed parameter \n",
    "meta = 38\n",
    "iteration = 10\n",
    "seed = 1\n",
    "max_process=10 #10 para\n",
    "orders = 10\n",
    "\n",
    "#clust\n",
    "div_num = 100\n",
    "fold_num = 10\n",
    "\n",
    "#meta\n",
    "div_num = meta\n",
    "fold_num = 10"
   ]
  },
  {
   "cell_type": "markdown",
   "id": "a3a4c6db-845b-4af2-a21e-3a93c927e98f",
   "metadata": {},
   "source": [
    "## make reordered fcs"
   ]
  },
  {
   "cell_type": "code",
   "execution_count": null,
   "id": "e851f162-1677-4c18-a382-4b141bfa5299",
   "metadata": {},
   "outputs": [],
   "source": [
    "cmd = \"RScript.exe R/make_reordered_samusik.R ./benchmark_data_sets/Samusik_all/data/Samusik_all.fcs ./benchmark_data_sets/Samusik_reorder\"\n",
    "proc = subprocess.Popen(cmd.split())\n",
    "proc.wait()"
   ]
  },
  {
   "cell_type": "markdown",
   "id": "8d8a5094-700b-4c0f-a26e-942722746899",
   "metadata": {},
   "source": [
    "# make table for reoeder"
   ]
  },
  {
   "cell_type": "code",
   "execution_count": null,
   "id": "c6d91225-c7a9-4d65-b0db-4a5ceb28150a",
   "metadata": {},
   "outputs": [],
   "source": [
    "cmd = \"RScript.exe R/make_samusik_transtable.R ./benchmark_data_sets/Samusik_reorder ./benchmark_data_sets/Samusik_reorder\"\n",
    "proc = subprocess.Popen(cmd.split())\n",
    "proc.wait()"
   ]
  },
  {
   "cell_type": "markdown",
   "id": "39b79a40-7c7c-4a28-a3d7-53efda4abc4f",
   "metadata": {},
   "source": [
    "## set sample for clustering"
   ]
  },
  {
   "cell_type": "code",
   "execution_count": null,
   "id": "7cf91bbf-096d-4864-b1a0-e152ca30d395",
   "metadata": {},
   "outputs": [],
   "source": [
    "Samplefcs_list = []\n",
    "for i in range(1,11,1):\n",
    "    fcsfile = \"samsik_all_head%d.fcs\"%i\n",
    "    fcs = os.path.join(workdir,\"benchmark_data_sets\",\"Samusik_reorder\",fcsfile)\n",
    "    Samplefcs_list.append(fcs)"
   ]
  },
  {
   "cell_type": "code",
   "execution_count": null,
   "id": "acee3f15-2852-4c0d-bef9-228fd5737959",
   "metadata": {},
   "outputs": [],
   "source": [
    "FSOM_no_hang_seed_ev = \"evaluate_FlowSOM_hang.R\""
   ]
  },
  {
   "cell_type": "code",
   "execution_count": null,
   "id": "148ea3b8-0bcf-4f92-b26a-73ec112b32b6",
   "metadata": {},
   "outputs": [],
   "source": [
    "experiment_name = \"Samusik_jaccard-fsom\"\n",
    "os.chdir(workdir)\n",
    "os.makedirs(experiment_name,exist_ok=True)\n",
    "\n",
    "proc_list = []\n",
    "total_num = 0\n",
    "loop=10\n",
    "for Samplefcs in Samplefcs_list:\n",
    "    sample_name = os.path.splitext(os.path.basename(Samplefcs))[0]\n",
    "    exp_path = os.path.join(workdir,experiment_name,sample_name)\n",
    "    os.makedirs(exp_path,exist_ok=True)\n",
    "    cmd = \"RScript.exe cytometry-clustering-comparison/run_methods/run_FlowSOM2_variable_iter_seed_meta_sample_jaccard.R %s %s %d %d %d %s\"%(Samplefcs,exp_path, iteration, seed, meta,\"Samusik_all\")\n",
    "    proc = subprocess.Popen(cmd.split())\n",
    "    proc_list.append(proc)\n",
    "    total_num = total_num +1\n",
    "    if (total_num) % max_process == 0 or (total_num == loop):\n",
    "        #wait process\n",
    "        for subproc in proc_list:\n",
    "            subproc.wait()\n",
    "        proc_list = []    "
   ]
  },
  {
   "cell_type": "markdown",
   "id": "68bfe3e0-d1ca-4972-b2a0-60beeb306c06",
   "metadata": {},
   "source": [
    "## evaluation"
   ]
  },
  {
   "cell_type": "code",
   "execution_count": null,
   "id": "934ab71d-290c-4897-8825-add61e4735a3",
   "metadata": {},
   "outputs": [],
   "source": [
    "import subprocess\n",
    "os.chdir(workdir)\n",
    "os.chdir(\"cytometry-clustering-comparison/evaluate_results\")\n",
    "\n",
    "proc_list = []\n",
    "total_num = 0\n",
    "cwd = os.getcwd()\n",
    "for Samplefcs in Samplefcs_list:\n",
    "    sample_name = os.path.splitext(os.path.basename(Samplefcs))[0]\n",
    "    exp_path = os.path.join(workdir,experiment_name,sample_name) \n",
    "    cmd = \"RScript.exe %s %s %s/FlowSOM_labels_seed_%d_iter_%d_meta_%d.txt %s/vseed_f1hang_%03d_iter_10_meta_%d.resh\"%(FSOM_no_hang_seed_ev,Samplefcs,exp_path,seed,iteration,meta,exp_path,seed,meta)\n",
    "    proc = subprocess.Popen(cmd.split())\n",
    "    proc_list.append(proc)\n",
    "    total_num = total_num +1\n",
    "    if (total_num) % max_process == 0 or (total_num == loop):\n",
    "        #wait for process\n",
    "        for subproc in proc_list:\n",
    "            subproc.wait()\n",
    "        proc_list = []"
   ]
  },
  {
   "cell_type": "markdown",
   "id": "e33e79c4-aad2-4aca-9e0d-139ed74b2111",
   "metadata": {},
   "source": [
    "In order to calcurate the jaccard index, the clustering resutls have to be restored to their original order.\n",
    "We should change clustering results to original order.\n",
    "Frome here, we change the clustering order."
   ]
  },
  {
   "cell_type": "code",
   "execution_count": null,
   "id": "3d31ac4d-f004-446d-8b53-6aa4b31ba42a",
   "metadata": {},
   "outputs": [],
   "source": [
    "from workers import save_trans_result,calc_jaccard_meta_table4,calc_jaccard_clust_table4"
   ]
  },
  {
   "cell_type": "code",
   "execution_count": null,
   "id": "9d6e5398-ae45-4a7a-bc7b-ca7fb341b32c",
   "metadata": {},
   "outputs": [],
   "source": [
    "os.chdir(workdir)\n",
    "import shutil\n",
    "\n",
    "ref_df = pd.read_csv(\"benchmark_data_sets/Samusik_reorder/samusik_table_reference.csv\")\n",
    "proc_list = []\n",
    "#clust\n",
    "for i in range(2,iteration+1):\n",
    "    clust_fname = \"%s/samsik_all_head%d/FlowSOM_labels_seed_1_iter_10_clust.txt\"%(experiment_name,i)\n",
    "    table_fname = \"benchmark_data_sets/Samusik_reorder/samusik_table_fold%d.csv\"%i\n",
    "    out_fname   = \"%s/samsik_all_head%d/FlowSOM_labels_seed_1_iter_10_clust_trans.txt\"%(experiment_name,i)\n",
    "    \n",
    "    proc = Process(target=save_trans_result,args=(ref_df, clust_fname, table_fname, out_fname))\n",
    "    proc.start()\n",
    "    proc_list.append(proc)\n",
    "    \n",
    "for p in proc_list:\n",
    "    p.join()\n",
    "\n",
    "i=1\n",
    "#copy head1 file\n",
    "clust_fname = \"%s/samsik_all_head%d/FlowSOM_labels_seed_1_iter_10_clust.txt\"%(experiment_name,i)\n",
    "out_fname   = \"%s/samsik_all_head%d/FlowSOM_labels_seed_1_iter_10_clust_trans.txt\"%(experiment_name,i)\n",
    "shutil.copyfile(clust_fname, out_fname)"
   ]
  },
  {
   "cell_type": "code",
   "execution_count": null,
   "id": "80d09a3b-20fb-4776-a6b7-ee72eedd0e93",
   "metadata": {},
   "outputs": [],
   "source": [
    "proc_list = []\n",
    "\n",
    "#meta\n",
    "for i in range(2,iteration+1):\n",
    "    clust_fname = \"%s/samsik_all_head%d/FlowSOM_labels_seed_1_iter_10_meta_38.txt\"%(experiment_name,i)\n",
    "    table_fname = \"benchmark_data_sets/Samusik_reorder/samusik_table_fold%d.csv\"%i\n",
    "    out_fname   = \"%s/samsik_all_head%d/FlowSOM_labels_seed_1_iter_10_meta38_trans.txt\"%(experiment_name,i)\n",
    "    \n",
    "    proc = Process(target=save_trans_result,args=(ref_df, clust_fname, table_fname, out_fname))\n",
    "    proc.start()\n",
    "    proc_list.append(proc)\n",
    "    \n",
    "for p in proc_list:\n",
    "    p.join()\n",
    "\n",
    "i=1\n",
    "#copy head1 file\n",
    "clust_fname = \"%s/samsik_all_head%d/FlowSOM_labels_seed_1_iter_10_meta_38.txt\"%(experiment_name,i)\n",
    "out_fname   = \"%s/samsik_all_head%d/FlowSOM_labels_seed_1_iter_10_meta38_trans.txt\"%(experiment_name,i)\n",
    "shutil.copyfile(clust_fname, out_fname)    "
   ]
  },
  {
   "cell_type": "raw",
   "id": "223a8011-f1f5-4e89-952a-53d6ddd252bd",
   "metadata": {},
   "source": [
    "We can change the clustering result to their original order.\n",
    "From here, we can calculate jaccard index as useal."
   ]
  },
  {
   "cell_type": "code",
   "execution_count": null,
   "id": "eb66f56b-dbae-4c97-8160-5c7dca202c3a",
   "metadata": {},
   "outputs": [],
   "source": [
    "def df2jacdf(indf):\n",
    "    max = indf[0].max() \n",
    "    index_list = []   \n",
    "    for i in range(1,max + 1):\n",
    "        ind = indf.loc[indf[0]==i].index \n",
    "        ind = ind+1 \n",
    "        index_list.append(ind.tolist())\n",
    "    df = pd.DataFrame(index_list)\n",
    "    df.index = df.index + 1 \n",
    "    return df"
   ]
  },
  {
   "cell_type": "code",
   "execution_count": null,
   "id": "eb16417c-7ffa-4e50-b951-c3da26e43cb5",
   "metadata": {},
   "outputs": [],
   "source": [
    "# random init \n",
    "Outdir = \"Samusik-jaccard-reorder\"\n",
    "base_dir = os.path.join(workdir,experiment_name)\n",
    "\n",
    "#clust\n",
    "for order in range(1,orders+1):\n",
    "    sample_name = \"samsik_all_head%d\"%order\n",
    "    out_dir = os.path.join(workdir, Outdir)\n",
    "    os.makedirs(out_dir,exist_ok=True)\n",
    "\n",
    "    in_file = os.path.join(base_dir,\"samsik_all_head%d\"%order, \"FlowSOM_labels_seed_1_iter_10_clust_trans.txt\")\n",
    "    out_filename = \"fsom_%s_jaccard_clust.csv\"%(sample_name)\n",
    "    out_path = os.path.join(out_dir, out_filename)\n",
    "    #read file\n",
    "    df = pd.read_csv(in_file, header=None,skiprows=1)\n",
    "    out_df = df2jacdf(df) # make jaccard file \n",
    "    a = out_df.T\n",
    "    a.to_csv(out_path, index=False, header=True)\n",
    "    print(out_path)"
   ]
  },
  {
   "cell_type": "code",
   "execution_count": null,
   "id": "e30a6b31-34a9-4ba1-9aca-63194f9d61da",
   "metadata": {},
   "outputs": [],
   "source": [
    "#meta\n",
    "\n",
    "for order in range(1,seed_num + 1):\n",
    "    sample_name = \"samsik_all_head%d\"%order\n",
    "    out_dir = os.path.join(workdir, Outdir,\"FSOM\",sample_name)\n",
    "\n",
    "    in_file =  os.path.join(base_dir,\"samsik_all_head%d\"%order, \"FlowSOM_labels_seed_1_iter_10_meta38_trans.txt\")\n",
    "    out_filename = \"fsom_%s_jaccard_meta.csv\"%(sample_name)\n",
    "    out_path = os.path.join(Outdir, out_filename)\n",
    "\n",
    "    #read file\n",
    "    df = pd.read_csv(in_file, header=None,skiprows=1)\n",
    "    out_df = df2jacdf(df) # make jaccard file\n",
    "    a = out_df.T\n",
    "    a.to_csv(out_path, index=False, header=True)\n",
    "    print(out_path)\n",
    "print(\"done\")    "
   ]
  },
  {
   "cell_type": "raw",
   "id": "3133fa8f-a530-4cb3-abca-a216a0fddecd",
   "metadata": {},
   "source": [
    "Samusik_jaccard-reorder\n",
    "      -> fsom_samsik_all_head1_jaccard_clust.csv\n",
    "      -> fsom_samsik_all_head2_jaccard_clust.csv\n",
    "        ...\n",
    "      -> fsom_samsik_all_head10_jaccard_clust.csv\n",
    "      -> fsom_samsik_all_head1_jaccard_meta.csv\n",
    "        ...\n",
    "      -> fsom_samsik_all_head10_jaccard_meta.csv\n"
   ]
  },
  {
   "cell_type": "code",
   "execution_count": null,
   "id": "57dc83c9-b67a-459f-b3af-4d15f88f39f6",
   "metadata": {},
   "outputs": [],
   "source": [
    "proc_list = []\n",
    "Outdir = \"Samusik-jaccard-reorder\"\n",
    "\n",
    "div_num = 100\n",
    "fold_num = 10\n",
    "proc = Process(target=calc_jaccard_clust_table4,args=(Outdir,workdir,fold_num, div_num))\n",
    "proc.start()\n",
    "proc_list.append(proc)\n",
    "\n",
    "div_num = meta\n",
    "fold_num = 10\n",
    "proc = Process(target=calc_jaccard_meta_table4,args=(Outdir,workdir,fold_num, div_num))\n",
    "proc.start()\n",
    "proc_list.append(proc)\n",
    "\n",
    "for p in proc_list:\n",
    "    p.join()"
   ]
  },
  {
   "cell_type": "code",
   "execution_count": null,
   "id": "719d22bd-be7c-49a4-8451-2be75cb67658",
   "metadata": {},
   "outputs": [],
   "source": [
    "clust = pd.read_csv(\"samsik_reorder_jaccard_fsom_clust_table4.csv\")"
   ]
  },
  {
   "cell_type": "code",
   "execution_count": null,
   "id": "d5f26a7f-e150-4448-96a0-8b3e1ea298cc",
   "metadata": {},
   "outputs": [],
   "source": [
    "clust[\"4\"].describe()"
   ]
  },
  {
   "cell_type": "code",
   "execution_count": null,
   "id": "1a96abc0-bb39-4541-bcd6-e217f0f754a8",
   "metadata": {},
   "outputs": [],
   "source": [
    "meta_df = pd.read_csv(\"samsik_reorder_jaccard_fsom_meta_table4.csv\")"
   ]
  },
  {
   "cell_type": "code",
   "execution_count": null,
   "id": "d521f84d-3dfd-473f-80a5-9574588f55b2",
   "metadata": {},
   "outputs": [],
   "source": [
    "meta_df[\"4\"].describe()"
   ]
  },
  {
   "cell_type": "code",
   "execution_count": null,
   "id": "724160af-8f3d-43e8-8353-22c025f392f1",
   "metadata": {},
   "outputs": [],
   "source": []
  }
 ],
 "metadata": {
  "kernelspec": {
   "display_name": "Python 3 (ipykernel)",
   "language": "python",
   "name": "python3"
  },
  "language_info": {
   "codemirror_mode": {
    "name": "ipython",
    "version": 3
   },
   "file_extension": ".py",
   "mimetype": "text/x-python",
   "name": "python",
   "nbconvert_exporter": "python",
   "pygments_lexer": "ipython3",
   "version": "3.9.9"
  }
 },
 "nbformat": 4,
 "nbformat_minor": 5
}
