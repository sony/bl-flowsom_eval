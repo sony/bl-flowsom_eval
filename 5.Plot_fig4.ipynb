{
 "cells": [
  {
   "cell_type": "code",
   "execution_count": null,
   "id": "53eef34c",
   "metadata": {},
   "outputs": [],
   "source": [
    "# Copyright 2025 Sony Corporation"
   ]
  },
  {
   "cell_type": "markdown",
   "id": "7bbd0751-3afe-43b7-a690-0da3508d5990",
   "metadata": {},
   "source": [
    "# Notebook for draw figure 4\n",
    "Note:Before runnning this notebook, please run generate_data.ipynb"
   ]
  },
  {
   "cell_type": "code",
   "execution_count": null,
   "id": "24994034-7f9c-4b7e-ba57-a99354132710",
   "metadata": {},
   "outputs": [],
   "source": [
    "import subprocess\n",
    "import os\n",
    "import glob\n",
    "import shutil\n",
    "import sys\n",
    "import matplotlib.pyplot as plt\n",
    "import pandas as pd\n",
    "import seaborn as sns"
   ]
  },
  {
   "cell_type": "code",
   "execution_count": null,
   "id": "934e70e0-88d6-450c-93a1-0834673ba77d",
   "metadata": {},
   "outputs": [],
   "source": [
    "workdir = os.getcwd()"
   ]
  },
  {
   "cell_type": "code",
   "execution_count": null,
   "id": "e2210d3d-65a0-47b9-9746-38d0fd665c2d",
   "metadata": {},
   "outputs": [],
   "source": []
  },
  {
   "cell_type": "code",
   "execution_count": null,
   "id": "71708c17-31b1-41ac-b548-dbae0129e808",
   "metadata": {},
   "outputs": [],
   "source": [
    "#samples\n",
    "samplenames = [\"FP7000_34c\",\"FP7000_34c\",\"Levine_32dim\", \"Levine_13dim\",\"Samusik_01\",\"Samusik_all\"]\n"
   ]
  },
  {
   "cell_type": "code",
   "execution_count": null,
   "id": "2a163a38-e858-414e-851a-23c7496757e2",
   "metadata": {},
   "outputs": [],
   "source": []
  },
  {
   "cell_type": "code",
   "execution_count": null,
   "id": "776e7689-2481-4e96-8f80-04f969ee2416",
   "metadata": {},
   "outputs": [],
   "source": [
    "#BL-flowsom best f-value\n",
    "BL_Fval = pd.DataFrame({\n",
    "    'Levine_32dim': [0.799],\n",
    "    'Levine_13dim': [0.520],\n",
    "    'Samusik_01':   [0.684],\n",
    "    'Samusik_all': [0.694472],\n",
    "    'FP7000_34c': [0.516],\n",
    "    'FP7000_34c-pca': [0.516],\n",
    "})"
   ]
  },
  {
   "cell_type": "code",
   "execution_count": null,
   "id": "f193c57c-7d2f-4e9d-923c-fc40f9943258",
   "metadata": {},
   "outputs": [],
   "source": [
    "#best meta div num\n",
    "best_metas = {\"Levine_32dim\": 28,\n",
    "         \"Levine_13dim\": 48,\n",
    "         \"Samusik_01\": 37,\n",
    "         \"Samusik_all\": 38,\n",
    "         \"FP7000_34c\": 20,\n",
    "         \"FP7000_34c-pca\": 20 }           "
   ]
  },
  {
   "cell_type": "code",
   "execution_count": null,
   "id": "a38e73b7-8409-47de-89fb-c987c2b6fc0a",
   "metadata": {},
   "outputs": [],
   "source": [
    "#specify flosom directory\n",
    "fsom_experiment_name = \"Flowsom\""
   ]
  },
  {
   "cell_type": "code",
   "execution_count": null,
   "id": "f50074d1-491f-4f87-9479-f8037f88569a",
   "metadata": {},
   "outputs": [],
   "source": [
    "resdf = pd.DataFrame()\n",
    "for sample_name in samplenames:\n",
    "    print(sample_name)\n",
    "    best_m = best_metas.get(sample_name) \n",
    "    print(best_m)\n",
    "    directory = os.path.join(workdir,fsom_experiment_name,sample_name,\"%d\"%best_m, \"10\")\n",
    "    files = [file for file in os.listdir(directory) if (file.startswith(\"vseed_f1hang_\") and file.endswith(\"resh\"))]\n",
    "    df = pd.DataFrame()\n",
    "    for file in files:\n",
    "        file_path = os.path.join(directory, file)\n",
    "        # Get the numeric part from the file name and use it as an index\n",
    "        index = int(file.split('_')[2].split('.')[0])\n",
    "        temp_df = pd.read_csv(file_path,header=None)\n",
    "        # concat \n",
    "        temp_df['index'] = index\n",
    "        temp_df.set_index('index', inplace=True)\n",
    "        df = pd.concat([df, temp_df])\n",
    "    t_df = df.rename(columns={0:sample_name})\n",
    "    resdf = pd.concat([resdf,t_df],axis=1)"
   ]
  },
  {
   "cell_type": "code",
   "execution_count": null,
   "id": "ac37542a-d2e3-456d-bd64-027d78ec1c41",
   "metadata": {},
   "outputs": [],
   "source": [
    "f_df = resdf.melt()"
   ]
  },
  {
   "cell_type": "code",
   "execution_count": null,
   "id": "d4407d40-0b4e-4bab-95e0-92d987d0ba70",
   "metadata": {},
   "outputs": [],
   "source": [
    "for sample in samplenames:\n",
    "    print(resdf[sample].describe())"
   ]
  },
  {
   "cell_type": "code",
   "execution_count": null,
   "id": "ea16e195-4bb7-47dc-9148-be4a440b2851",
   "metadata": {},
   "outputs": [],
   "source": [
    "f_df = resdf.melt()"
   ]
  },
  {
   "cell_type": "code",
   "execution_count": null,
   "id": "f6fd268b-64ed-48e0-bba2-7a27cc6022a0",
   "metadata": {},
   "outputs": [],
   "source": [
    "import matplotlib.patches as mpatches\n",
    "import matplotlib.lines as mlines\n",
    "fig = plt.figure(figsize=(8,4),dpi=300)\n",
    "#fig, ax1 = plt.subplots(1,1)\n",
    "sns.set(style=\"whitegrid\")\n",
    "sns.boxplot(x=\"variable\",y=\"value\",showmeans=False,data = f_df, color=\"b\",width=0.3)\n",
    "sns.boxplot(x=\"variable\",y=\"value\",showmeans=False,data = f_df[f_df[\"variable\"] == \"FP7000_34c-pca\"], color=\"g\",width=0.3)\n",
    "i = 0\n",
    "for sample_name in samplenames:\n",
    "    F = BL_Fval.get(sample_name)\n",
    "    plt.plot(i, F , marker='o', markersize=5, color='red', label=\"a\", zorder=10)  # average       \n",
    "    i = i+1\n",
    "\n",
    "plt.xlabel('Dataset', fontsize=12)\n",
    "plt.ylim(0,1)\n",
    "\n",
    "blue_patch = mpatches.Patch(color='b', label='Flowsom random init.\\n(average)')\n",
    "green_patch = mpatches.Patch(color='g', label='Flowsom pca init.\\n(average)')\n",
    "\n",
    "red_triangle = mlines.Line2D([], [], color='red', marker='o', linestyle='None',\n",
    "                          markersize=5, label='BL-FlowSOM')\n",
    "plt.legend( handles = [red_triangle,blue_patch,green_patch],loc =\"lower right\")\n"
   ]
  },
  {
   "cell_type": "code",
   "execution_count": null,
   "id": "eaedec7b-2e7a-4024-a2ad-1340edb7cb3a",
   "metadata": {},
   "outputs": [],
   "source": [
    "fig.savefig(\"Fig4.png\")"
   ]
  }
 ],
 "metadata": {
  "kernelspec": {
   "display_name": "Python 3 (ipykernel)",
   "language": "python",
   "name": "python3"
  },
  "language_info": {
   "codemirror_mode": {
    "name": "ipython",
    "version": 3
   },
   "file_extension": ".py",
   "mimetype": "text/x-python",
   "name": "python",
   "nbconvert_exporter": "python",
   "pygments_lexer": "ipython3",
   "version": "3.9.9"
  }
 },
 "nbformat": 4,
 "nbformat_minor": 5
}
