{
 "cells": [
  {
   "cell_type": "code",
   "execution_count": null,
   "id": "cbd07e4c",
   "metadata": {},
   "outputs": [],
   "source": [
    "# Copyright 2025 Sony Corporation"
   ]
  },
  {
   "cell_type": "code",
   "execution_count": null,
   "id": "2a7cdbd8-b60f-48d5-84d4-c68ccd9bfecf",
   "metadata": {},
   "outputs": [],
   "source": [
    "import subprocess\n",
    "import os\n",
    "import glob\n",
    "import shutil\n",
    "import sys\n",
    "import pandas as pd"
   ]
  },
  {
   "cell_type": "code",
   "execution_count": null,
   "id": "6a297255-cd78-498a-9473-ca3574b35576",
   "metadata": {},
   "outputs": [],
   "source": [
    "workdir = os.getcwd()"
   ]
  },
  {
   "cell_type": "code",
   "execution_count": null,
   "id": "0d38843b-e3ee-4395-be16-98145f84f8ec",
   "metadata": {},
   "outputs": [],
   "source": []
  },
  {
   "cell_type": "code",
   "execution_count": null,
   "id": "67216362-f1ad-4a90-baf0-eebcb1377b1c",
   "metadata": {
    "tags": []
   },
   "outputs": [],
   "source": [
    "best_m = {\"Levine_32dim\": 28,\n",
    "         \"Levine_13dim\": 41,\n",
    "         \"Samusik_01\": 30,\n",
    "         \"Samusik_all\": 45,\n",
    "         \"FP7000_34c\": 20}"
   ]
  },
  {
   "cell_type": "code",
   "execution_count": null,
   "id": "110ff2bf-9eba-4e4b-8261-62c0c2295ba9",
   "metadata": {},
   "outputs": [],
   "source": [
    "fsom_exp_dir = \"Flowsom\"\n",
    "samples = [\"FP7000_34c\",\"Levine_32dim\",\"Levine_13dim\",\"Samusik_01\",\"Samusik_all\"]\n",
    "b = pd.DataFrame({\n",
    "        'FP7000_34c': [0.516],\n",
    "    'Levine_32dim': [0.799],\n",
    "    'Levine_13dim': [0.520],\n",
    "    'Samusik_01':   [0.684],\n",
    "    'Samusik_all': [0.694],\n",
    "}) \n"
   ]
  },
  {
   "cell_type": "code",
   "execution_count": null,
   "id": "b414c162-6b52-4795-87f7-cab216437035",
   "metadata": {},
   "outputs": [],
   "source": [
    "import matplotlib.pyplot as plt\n",
    "import seaborn as sns\n",
    "\n",
    "os.chdir(workdir)\n",
    "resdf = pd.DataFrame()\n",
    "datas = []\n",
    "it=10\n",
    "\n",
    "resdf = pd.DataFrame()\n",
    "\n",
    "for sample_name in samples:\n",
    "    meta = best_m.get(sample_name)\n",
    "    print(meta)\n",
    "    datas = []\n",
    "    directory = os.path.join(fsom_exp_dir,sample_name,\"%d\"%meta, \"%d\"%it)\n",
    "    df = pd.DataFrame()\n",
    "    for i in range(1,11):\n",
    "        file = \"vseed_f1hang_%03d_iter_%d_meta_%d.resh\"%(i,it,meta)\n",
    "        file_path = os.path.join(directory, file)\n",
    "        temp_df = pd.read_csv(file_path, header=None)\n",
    "        temp_df[\"index\"] = i\n",
    "        temp_df.set_index(\"index\", inplace=True)\n",
    "        df= pd.concat([df,temp_df])\n",
    "    data_hang = df.rename(columns={0:\"%s\"%sample_name})\n",
    "    resdf = pd.concat([resdf,data_hang],axis=1)\n",
    "    print(sample_name)"
   ]
  },
  {
   "cell_type": "code",
   "execution_count": null,
   "id": "7149d4ad-2194-40c6-9571-365510c12415",
   "metadata": {},
   "outputs": [],
   "source": []
  },
  {
   "cell_type": "code",
   "execution_count": null,
   "id": "46aac840-ff3c-4e82-97f0-9c3ccf73fc98",
   "metadata": {},
   "outputs": [],
   "source": []
  },
  {
   "cell_type": "code",
   "execution_count": null,
   "id": "4098bc2b-b60f-47da-b0ce-28b16f0a6c92",
   "metadata": {},
   "outputs": [],
   "source": [
    "long_data = resdf.reset_index().melt(id_vars='index', var_name='Category', value_name='Value')"
   ]
  },
  {
   "cell_type": "code",
   "execution_count": null,
   "id": "734b313d-9937-4578-a245-c93ae4cbe0fb",
   "metadata": {},
   "outputs": [],
   "source": [
    "long_data"
   ]
  },
  {
   "cell_type": "code",
   "execution_count": null,
   "id": "12fd77b3-23fc-4718-a5f2-ec60e37d6525",
   "metadata": {},
   "outputs": [],
   "source": [
    "import matplotlib.lines as mlines\n",
    "a = resdf.reset_index(drop=True)\n",
    "plt.figure(figsize=(10, 8),dpi=300)\n",
    "plt.yticks()\n",
    "\n",
    "sns.swarmplot(data=a, dodge=True, color='white', edgecolor='white', linewidth=1)\n",
    "for j, column in enumerate(a.columns):\n",
    "    for i, value in enumerate(a[column]):\n",
    "        plt.text(j, value, str(i+1), ha='center', va='center',size=10)\n",
    "\n",
    "for j, column in enumerate(b.columns):\n",
    "    for i, value in enumerate(b[column]):\n",
    "        plt.plot(j, value, marker='o', markersize=5, color='red',zorder=10)\n",
    "\n",
    "red_triangle = mlines.Line2D([], [], color='red', marker='o', linestyle='None',markersize=5, label='BL-FlowSOM')\n",
    "\n",
    "plt.legend( handles = [red_triangle],loc =\"upper right\")\n",
    "plt.xlabel('Sample')\n",
    "plt.savefig(\"Fig_S3.png\")\n",
    "\n"
   ]
  }
 ],
 "metadata": {
  "kernelspec": {
   "display_name": "Python 3 (ipykernel)",
   "language": "python",
   "name": "python3"
  },
  "language_info": {
   "codemirror_mode": {
    "name": "ipython",
    "version": 3
   },
   "file_extension": ".py",
   "mimetype": "text/x-python",
   "name": "python",
   "nbconvert_exporter": "python",
   "pygments_lexer": "ipython3",
   "version": "3.9.9"
  }
 },
 "nbformat": 4,
 "nbformat_minor": 5
}
