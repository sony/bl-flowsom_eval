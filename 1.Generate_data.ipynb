{
 "cells": [
  {
   "cell_type": "code",
   "execution_count": null,
   "id": "0711c889-6d1f-4672-95c9-33f1c8f01164",
   "metadata": {},
   "outputs": [],
   "source": [
    "# Copyright 2025 Sony Corporation"
   ]
  },
  {
   "cell_type": "code",
   "execution_count": null,
   "id": "6231393b",
   "metadata": {},
   "outputs": [],
   "source": [
    "import subprocess\n",
    "import os\n",
    "import glob\n",
    "import shutil\n",
    "import sys"
   ]
  },
  {
   "cell_type": "code",
   "execution_count": null,
   "id": "bd5beb87-96b3-4f6e-8f23-a61de2a13ec0",
   "metadata": {},
   "outputs": [],
   "source": [
    "workdir = os.getcwd()"
   ]
  },
  {
   "cell_type": "code",
   "execution_count": null,
   "id": "479fbd77-64f6-4768-93f6-67eb1bb0c111",
   "metadata": {},
   "outputs": [],
   "source": [
    "cwd = workdir"
   ]
  },
  {
   "cell_type": "code",
   "execution_count": null,
   "id": "221783b2-62fa-4ca9-a70d-5e7b0652700f",
   "metadata": {},
   "outputs": [],
   "source": [
    "BL_experiment_name = \"BL_FlowSOM\"\n",
    "fsom_experiment_name = \"Flowsom\"\n",
    "clust_res_dir = \"BL_clustering_results\""
   ]
  },
  {
   "cell_type": "code",
   "execution_count": null,
   "id": "8223dee5-b34f-4504-bde6-3d2e7dd08be3",
   "metadata": {},
   "outputs": [],
   "source": [
    "BL_iter_hang_ev = \"evaluate_BL_hang.R\"\n",
    "FSOM_no_hang_seed_ev = \"evaluate_FlowSOM_hang.R\"\n",
    "BL_meta_ev = \"R/MetaClust.R\""
   ]
  },
  {
   "cell_type": "code",
   "execution_count": null,
   "id": "4229f35f-3459-42a4-876b-451b96b8a212",
   "metadata": {},
   "outputs": [],
   "source": [
    "max_process = 30 #30 pallarell"
   ]
  },
  {
   "cell_type": "markdown",
   "id": "6dea4e91-9d5a-4f5b-adf6-7bda80b5020f",
   "metadata": {},
   "source": [
    "## Set target samples"
   ]
  },
  {
   "cell_type": "code",
   "execution_count": null,
   "id": "2ef3675b-7208-49c2-840b-04e895b56a0d",
   "metadata": {},
   "outputs": [],
   "source": [
    "Samplefcses = []\n",
    "Samplefcses_pca = []"
   ]
  },
  {
   "cell_type": "code",
   "execution_count": null,
   "id": "749fb57f-a9a7-4f6c-9635-4635557cf9b3",
   "metadata": {},
   "outputs": [],
   "source": [
    "Samplefcs = os.path.join(workdir,\"benchmark_data_sets\",\"Levine_32dim\",\"data\",\"Levine_32dim.fcs\")\n",
    "Samplefcses.append(Samplefcs)\n",
    "Samplefcs = os.path.join(workdir,\"benchmark_data_sets\",\"Levine_13dim\",\"data\",\"Levine_13dim.fcs\")\n",
    "Samplefcses.append(Samplefcs)\n",
    "Samplefcs = os.path.join(workdir,\"benchmark_data_sets\",\"Samusik_01\",\"data\",\"Samusik_01.fcs\")\n",
    "Samplefcses.append(Samplefcs)\n",
    "Samplefcs = os.path.join(workdir,\"benchmark_data_sets\",\"Samusik_all\",\"data\",\"Samusik_all.fcs\")\n",
    "Samplefcses.append(Samplefcs)\n",
    "Samplefcs = os.path.join(workdir,\"benchmark_data_sets\",\"FP34c\",\"data\",\"FP34c.fcs\")\n",
    "Samplefcses.append(Samplefcs)\n",
    "Samplefcses_pca.append(Samplefcs)"
   ]
  },
  {
   "cell_type": "code",
   "execution_count": null,
   "id": "508c9620-4629-43b5-b8b4-0214dfa4d03e",
   "metadata": {},
   "outputs": [],
   "source": [
    "def do_evaluate_BL(BL_exp_path,eval_tool_path, Samplefcs,meta_list, it_list):\n",
    "    os.chdir(eval_tool_path)\n",
    "    loop = len(meta_list)*len(it_list)    \n",
    "    sample_name = os.path.splitext(os.path.basename(Samplefcs))[0]\n",
    "    proc_list = []\n",
    "    total_num = 0\n",
    "    for m in meta_list:\n",
    "        print(m)\n",
    "        for it in it_list:\n",
    "            res_file = os.path.join(BL_exp_path, \"fixit_%d_meta_%02dRes_%s_.metaclust\"%(it,m,sample_name))\n",
    "            fcs = Samplefcs\n",
    "            f1_file  = os.path.join(BL_exp_path, \"f1_meta_%02d_it_%02d_hang.hres\"%(m,it))\n",
    "            cmd = \"RScript.exe %s %s %s %s\"%(BL_iter_hang_ev, fcs, res_file, f1_file)\n",
    "            proc = subprocess.Popen(cmd.split())\n",
    "            proc_list.append(proc)\n",
    "            f1_file  = os.path.join(BL_exp_path, \"f1_%02d_hang.hres\"%m)\n",
    "            total_num = total_num +1\n",
    "            if (total_num) % max_process == 0 or (total_num == loop):\n",
    "                #wait for process\n",
    "                for subproc in proc_list:\n",
    "                    subproc.wait()\n",
    "                proc_list = []"
   ]
  },
  {
   "cell_type": "code",
   "execution_count": null,
   "id": "4c2d18c3-ff14-4e90-b6ff-109408e58d84",
   "metadata": {},
   "outputs": [],
   "source": [
    "def do_experiment_flowsom(fsom_exp_path, mode, sample_name,Samplefcs,meta_list, it_list,seed_num):\n",
    "    os.makedirs(fsom_exp_path,exist_ok=True)\n",
    "    loop = len(meta_list) * seed_num *len(it_list)\n",
    "    init_mode = mode    \n",
    "    proc_list = []\n",
    "    total_num = 0\n",
    "    for meta in meta_list:#meta\n",
    "        print(meta)\n",
    "        vseed_dir = os.path.join(fsom_exp_path, \"%d\"%meta) #exp_path/{meta}\n",
    "        os.makedirs(vseed_dir,exist_ok=True)\n",
    "        for it in it_list:#iteration\n",
    "            it_dir = os.path.join( vseed_dir, \"%d\"%it)\n",
    "            os.makedirs(it_dir,exist_ok=True)\n",
    "            for i in range(1,seed_num+1):#seed\n",
    "                cmd = \"RScript.exe cytometry-clustering-comparison/run_methods/run_FlowSOM2_variable_iter_seed_meta_sample_jaccard.R %s %s %d %d %d %s %s\"%(Samplefcs,it_dir, it, i, meta,sample_name,init_mode)\n",
    "                proc = subprocess.Popen(cmd.split())\n",
    "                proc_list.append(proc)\n",
    "                total_num = total_num +1\n",
    "                if (total_num) % max_process == 0 or (total_num == loop):\n",
    "                    #wait for process\n",
    "                    for subproc in proc_list:\n",
    "                        subproc.wait()\n",
    "                    proc_list = []    "
   ]
  },
  {
   "cell_type": "code",
   "execution_count": null,
   "id": "11961208-3de3-4041-b0e6-a38ee22b93f5",
   "metadata": {},
   "outputs": [],
   "source": [
    "def do_evaluate_fsom(fsom_exp_path,eval_tool_path, Samplefcs,meta_list, it_list,seed_num):\n",
    "    os.chdir(eval_tool_path)\n",
    "    loop = len(meta_list)*len(it_list)*seed_num    \n",
    "    sample_name = os.path.splitext(os.path.basename(Samplefcs))[0]\n",
    "    proc_list = []\n",
    "    total_num = 0\n",
    "    for meta in meta_list:\n",
    "        print(meta)\n",
    "        fsom_eval_dir = os.path.join(fsom_exp_path, \"%d\"%meta) #exp_path/{meta}\n",
    "        for it in it_list:\n",
    "            it_dir = os.path.join(fsom_eval_dir, \"%d\"%it)\n",
    "            for seed in range(1,seed_num + 1):\n",
    "                cmd = \"RScript.exe %s %s %s/FlowSOM_labels_seed_%d_iter_%d_meta_%d.txt %s/vseed_f1hang_%03d_iter_%d_meta_%d.resh\"%(FSOM_no_hang_seed_ev,Samplefcs,it_dir,seed,it,meta,it_dir,seed,it,meta)\n",
    "                proc = subprocess.Popen(cmd.split())\n",
    "                proc_list.append(proc)\n",
    "                total_num = total_num +1\n",
    "                if (total_num) % max_process == 0 or (total_num == loop):\n",
    "                    #wait for process\n",
    "                    for subproc in proc_list:\n",
    "                        subproc.wait()\n",
    "                    proc_list = []\n",
    "    print(\"done\")"
   ]
  },
  {
   "cell_type": "code",
   "execution_count": null,
   "id": "f1c817af-855e-4342-aade-25beed90b962",
   "metadata": {},
   "outputs": [],
   "source": [
    "def do_experiment_BL(BL_exp_path, sample_name, Samplefcs,meta_list,it_list):\n",
    "    os.makedirs(BL_exp_path,exist_ok=True)\n",
    "    out_dir = BL_exp_path\n",
    "    clust_file = os.path.join(clust_res_dir,sample_name +\"_clust.csv\")\n",
    "    codes_file  = os.path.join(clust_res_dir,sample_name +\"_codes.csv\")\n",
    "    proc_list = []\n",
    "    total_num = 0\n",
    "    loop = len(meta_list)*len(it_list)\n",
    "    for meta in meta_list:\n",
    "        fname = \"fixit_10_meta_%dRes_%s_.metaclust\"%(meta,sample_name)\n",
    "        out_fname = os.path.join(out_dir , fname)\n",
    "        cmd = \"RScript.exe %s %s %s %d %s\"%(BL_meta_ev,clust_file,codes_file,meta, out_fname)\n",
    "        proc = subprocess.Popen(cmd.split())\n",
    "        proc_list.append(proc)\n",
    "        total_num = total_num +1\n",
    "        if (total_num) % max_process == 0 or (total_num == loop):\n",
    "            #wait for process\n",
    "            for subproc in proc_list:\n",
    "                subproc.wait()\n",
    "            proc_list = []"
   ]
  },
  {
   "cell_type": "markdown",
   "id": "a0578fab-dbe3-4d88-9de8-488ce829ce54",
   "metadata": {},
   "source": [
    "## BL-Flowsom experiment"
   ]
  },
  {
   "cell_type": "code",
   "execution_count": null,
   "id": "de0d41a8-7810-4518-af1a-8e5e9e5ce227",
   "metadata": {},
   "outputs": [],
   "source": [
    "meta_list = range(10,61,1)\n",
    "it_list = range(10,20,10)"
   ]
  },
  {
   "cell_type": "code",
   "execution_count": null,
   "id": "50517625-5549-448b-88b6-1610b2f4db23",
   "metadata": {
    "tags": []
   },
   "outputs": [],
   "source": [
    "#please put Batch-learinig result in BL_clust_result folder\n",
    "\n",
    "os.chdir(workdir)\n",
    "max_process = 30 #para \n",
    "\n",
    "for Samplefcs in Samplefcses:\n",
    "    sample_name = os.path.splitext(os.path.basename(Samplefcs))[0]\n",
    "    BL_exp_path = os.path.join(workdir,BL_experiment_name,sample_name)\n",
    "    # do BL-flowsom experiments\n",
    "    do_experiment_BL(BL_exp_path,sample_name,Samplefcs,meta_list,it_list)\n",
    "    os.chdir(workdir)\n",
    "    eval_tool_path = os.path.join(cwd,\"cytometry-clustering-comparison/evaluate_results\")\n",
    "    do_evaluate_BL(BL_exp_path,eval_tool_path,Samplefcs,meta_list,it_list)\n",
    "    os.chdir(workdir)\n",
    "os.chdir(workdir)"
   ]
  },
  {
   "cell_type": "markdown",
   "id": "a612a4bc-35c0-4004-ad31-7ab7744c7c93",
   "metadata": {},
   "source": [
    "## flowsom experiment"
   ]
  },
  {
   "cell_type": "code",
   "execution_count": null,
   "id": "03826ed4-4dcd-4e20-a704-55156fdad743",
   "metadata": {},
   "outputs": [],
   "source": [
    "meta_list = range(10,61,1)\n",
    "it_list = range(10,20,10)"
   ]
  },
  {
   "cell_type": "code",
   "execution_count": null,
   "id": "efd19ee1-0c7c-4481-9bb9-b7088bf4f687",
   "metadata": {},
   "outputs": [],
   "source": [
    "os.chdir(workdir)\n",
    "seed_num=100\n",
    "max_process = 30 \n",
    "\n",
    "for Samplefcs in Samplefcses:\n",
    "    sample_name = os.path.splitext(os.path.basename(Samplefcs))[0]\n",
    "    mode = \"RAND\" #RAND/PCA\n",
    "    fsom_exp_path = os.path.join(workdir,fsom_experiment_name,sample_name) \n",
    "    # do BL-flowsom experiments\n",
    "    do_experiment_flowsom(fsom_exp_path,mode, sample_name,Samplefcs,meta_list,it_list,seed_num)\n",
    "    os.chdir(workdir)\n",
    "    eval_tool_path = os.path.join(workdir,\"cytometry-clustering-comparison/evaluate_results\")\n",
    "    do_evaluate_fsom(fsom_exp_path,eval_tool_path,Samplefcs,meta_list,it_list,seed_num)\n",
    "    os.chdir(workdir)\n",
    "os.chdir(workdir)"
   ]
  },
  {
   "cell_type": "code",
   "execution_count": null,
   "id": "e3ffca93-c3a2-4562-91a3-4a064029ed0d",
   "metadata": {},
   "outputs": [],
   "source": [
    "os.chdir(workdir)\n",
    "#do flowsom with PCA\n",
    "seed_num = 100\n",
    "max_process = 20 \n",
    "\n",
    "for Samplefcs in Samplefcses_pca:\n",
    "    sample_name = os.path.splitext(os.path.basename(Samplefcs))[0] + \"-pca\" #add sample name to pca \n",
    "    mode = \"PCA\" #RAND/PCA\n",
    "    fsom_exp_path = os.path.join(workdir,fsom_experiment_name,sample_name) \n",
    "    # do BL-flowsom experiments\n",
    "    do_experiment_flowsom(fsom_exp_path,mode, sample_name,Samplefcs,meta_list,it_list,seed_num)\n",
    "    os.chdir(workdir)\n",
    "    eval_tool_path = os.path.join(workdir,\"cytometry-clustering-comparison/evaluate_results\")\n",
    "    do_evaluate_fsom(fsom_exp_path,eval_tool_path,Samplefcs,meta_list,it_list,seed_num)\n",
    "os.chdir(workdir)"
   ]
  }
 ],
 "metadata": {
  "kernelspec": {
   "display_name": "Python 3 (ipykernel)",
   "language": "python",
   "name": "python3"
  },
  "language_info": {
   "codemirror_mode": {
    "name": "ipython",
    "version": 3
   },
   "file_extension": ".py",
   "mimetype": "text/x-python",
   "name": "python",
   "nbconvert_exporter": "python",
   "pygments_lexer": "ipython3",
   "version": "3.9.9"
  }
 },
 "nbformat": 4,
 "nbformat_minor": 5
}
